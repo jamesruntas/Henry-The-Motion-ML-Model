{
 "cells": [
  {
   "cell_type": "code",
   "execution_count": 4,
   "id": "373698d3",
   "metadata": {},
   "outputs": [],
   "source": [
    "!jt -t chesterish"
   ]
  },
  {
   "cell_type": "code",
   "execution_count": 5,
   "id": "59d2b5ce",
   "metadata": {},
   "outputs": [],
   "source": [
    "import numpy as np\n",
    "import pandas as pd\n",
    "from pandas import read_csv\n",
    "\n"
   ]
  },
  {
   "cell_type": "code",
   "execution_count": 6,
   "id": "07d8ec28",
   "metadata": {
    "scrolled": true
   },
   "outputs": [],
   "source": [
    "df_train = read_csv(\"SYSC4415W23_A3_dataset/train/extracted_features.csv\")\n",
    "df_train_labels = read_csv(\"SYSC4415W23_A3_dataset/train/labels.csv\")\n",
    "\n",
    "\n",
    "\n",
    "\n",
    "# Replace infinite values with a valid value\n",
    "df_train = df_train.replace([np.inf, -np.inf], np.nan)\n",
    "df_train = df_train.fillna(df_train.max())\n",
    "\n",
    "df_train  = df_train.replace([np.inf, -np.inf], np.nan)\n",
    "df_train_labels  = df_train_labels.fillna(df_train_labels.max())\n",
    "\n",
    "#remove NaN values replace with zero\n",
    "df_train = df_train.fillna(0)\n",
    "df_train_labels = df_train_labels.fillna(0)\n",
    "\n",
    "#sort numerically \n",
    "df_train = df_train.sort_values('sample_id', ascending=True)\n",
    "df_train_labels = df_train_labels.sort_values('sample_id', ascending=True)\n",
    "\n",
    "\n"
   ]
  },
  {
   "cell_type": "code",
   "execution_count": 7,
   "id": "b48f0f76",
   "metadata": {},
   "outputs": [
    {
     "name": "stdout",
     "output_type": "stream",
     "text": [
      "      sample_id  az__variance_larger_than_standard_deviation  \\\n",
      "1018          1                                          1.0   \n",
      "1533          2                                          1.0   \n",
      "1346          3                                          1.0   \n",
      "426           4                                          1.0   \n",
      "60            6                                          1.0   \n",
      "\n",
      "      az__has_duplicate_max  az__has_duplicate_min  az__has_duplicate  \\\n",
      "1018                    0.0                    0.0                1.0   \n",
      "1533                    1.0                    1.0                1.0   \n",
      "1346                    0.0                    0.0                1.0   \n",
      "426                     0.0                    0.0                1.0   \n",
      "60                      0.0                    0.0                1.0   \n",
      "\n",
      "      az__sum_values  az__abs_energy  az__mean_abs_change  az__mean_change  \\\n",
      "1018      -11.405649     2958.427875             0.285573        -0.000523   \n",
      "1533        4.430022      816.786905             0.127496        -0.004708   \n",
      "1346      136.485847    19606.818781             1.177862        -0.006137   \n",
      "426       175.151247     5355.340251             0.460815         0.000824   \n",
      "60       8271.947225   258299.799743             1.649718         0.004929   \n",
      "\n",
      "      az__mean_second_derivative_central  ...  wx__fourier_entropy__bins_5  \\\n",
      "1018                            0.000112  ...                     0.327050   \n",
      "1533                           -0.000069  ...                     0.136002   \n",
      "1346                            0.001186  ...                     0.200814   \n",
      "426                            -0.000494  ...                     0.181214   \n",
      "60                             -0.000488  ...                     0.090729   \n",
      "\n",
      "      wx__fourier_entropy__bins_10  wx__fourier_entropy__bins_100  \\\n",
      "1018                      0.656882                       1.217748   \n",
      "1533                      0.215617                       0.529885   \n",
      "1346                      0.325140                       1.116011   \n",
      "426                       0.290926                       0.919296   \n",
      "60                        0.254093                       0.662409   \n",
      "\n",
      "      wx__permutation_entropy__dimension_3__tau_1  \\\n",
      "1018                                     1.189244   \n",
      "1533                                     0.731220   \n",
      "1346                                     1.322326   \n",
      "426                                      1.170402   \n",
      "60                                       1.187417   \n",
      "\n",
      "      wx__permutation_entropy__dimension_4__tau_1  \\\n",
      "1018                                     1.746101   \n",
      "1533                                     1.012292   \n",
      "1346                                     2.036857   \n",
      "426                                      1.696299   \n",
      "60                                       1.731053   \n",
      "\n",
      "      wx__permutation_entropy__dimension_5__tau_1  \\\n",
      "1018                                     2.344862   \n",
      "1533                                     1.286613   \n",
      "1346                                     2.785054   \n",
      "426                                      2.263814   \n",
      "60                                       2.329627   \n",
      "\n",
      "      wx__permutation_entropy__dimension_6__tau_1  \\\n",
      "1018                                     2.950303   \n",
      "1533                                     1.553275   \n",
      "1346                                     3.524340   \n",
      "426                                      2.859709   \n",
      "60                                       2.946007   \n",
      "\n",
      "      wx__permutation_entropy__dimension_7__tau_1  \\\n",
      "1018                                     3.541137   \n",
      "1533                                     1.834964   \n",
      "1346                                     4.223358   \n",
      "426                                      3.450062   \n",
      "60                                       3.538269   \n",
      "\n",
      "      wx__query_similarity_count__query_None__threshold_0.0  \\\n",
      "1018                                                0.0       \n",
      "1533                                                0.0       \n",
      "1346                                                0.0       \n",
      "426                                                 0.0       \n",
      "60                                                  0.0       \n",
      "\n",
      "      wx__mean_n_absolute_max__number_of_maxima_7  \n",
      "1018                                     4.362429  \n",
      "1533                                    11.139676  \n",
      "1346                                     5.262511  \n",
      "426                                      6.425968  \n",
      "60                                      40.151338  \n",
      "\n",
      "[5 rows x 7048 columns]\n",
      "(1621, 7048)\n"
     ]
    }
   ],
   "source": [
    "print(df_train.head())\n",
    "print(df_train.shape)"
   ]
  },
  {
   "cell_type": "code",
   "execution_count": 8,
   "id": "66e17fc8",
   "metadata": {},
   "outputs": [
    {
     "name": "stdout",
     "output_type": "stream",
     "text": [
      "      sample_id  label\n",
      "1576          1      3\n",
      "1213          2      3\n",
      "567           3      4\n",
      "1283          4      1\n",
      "1015          6      4\n"
     ]
    }
   ],
   "source": [
    "print(df_train_labels.head())"
   ]
  },
  {
   "cell_type": "code",
   "execution_count": 9,
   "id": "1ff707e2",
   "metadata": {},
   "outputs": [
    {
     "name": "stdout",
     "output_type": "stream",
     "text": [
      "1621\n",
      "1621\n"
     ]
    }
   ],
   "source": [
    "print(len(df_train))\n",
    "\n",
    "print(len(df_train_labels))"
   ]
  },
  {
   "cell_type": "code",
   "execution_count": 52,
   "id": "ec0a06ca",
   "metadata": {},
   "outputs": [],
   "source": [
    "import pandas as pd\n",
    "import numpy as np\n",
    "from sklearn.model_selection import train_test_split\n",
    "from sklearn.preprocessing import StandardScaler\n",
    "from sklearn.feature_selection import SelectKBest, f_classif, chi2,mutual_info_classif\n",
    "from tensorflow.keras.models import Sequential\n",
    "from tensorflow.keras.layers import Dense, Conv2D, MaxPooling2D, Flatten\n"
   ]
  },
  {
   "cell_type": "code",
   "execution_count": 108,
   "id": "89c93284",
   "metadata": {},
   "outputs": [
    {
     "name": "stderr",
     "output_type": "stream",
     "text": [
      "C:\\Users\\james\\anaconda3\\lib\\site-packages\\sklearn\\feature_selection\\_univariate_selection.py:112: UserWarning: Features [  12   46   49   50   51   52   53   54   55   56   57   58   59   60\n",
      "   61   62   63   64   65   66   72   73   74   75   76   77   78   79\n",
      "   80   81   82   83   84   93  106  366  764  782  795  829  832  833\n",
      "  834  835  836  837  838  839  840  841  842  843  844  845  846  847\n",
      "  848  849  854  855  856  857  858  859  860  861  862  863  864  865\n",
      "  866  867  876  889 1149 1565 1578 1612 1614 1615 1616 1617 1618 1619\n",
      " 1620 1621 1622 1623 1624 1625 1626 1627 1628 1629 1630 1631 1632 1638\n",
      " 1639 1640 1641 1642 1643 1644 1645 1646 1647 1648 1649 1650 1659 1672\n",
      " 1932 2330 2348 2361 2395 2398 2399 2400 2401 2402 2403 2404 2405 2406\n",
      " 2407 2408 2409 2410 2411 2412 2413 2414 2415 2421 2422 2423 2424 2425\n",
      " 2426 2427 2428 2429 2430 2431 2432 2433 2442 2455 2715 3131 3144 3178\n",
      " 3182 3183 3184 3185 3186 3187 3188 3189 3190 3191 3192 3193 3194 3195\n",
      " 3196 3197 3198 3199 3205 3206 3207 3208 3209 3210 3211 3212 3213 3214\n",
      " 3215 3216 3225 3238 3498 3895 3896 3914 3927 3961 3964 3965 3966 3967\n",
      " 3968 3969 3970 3971 3972 3973 3974 3975 3976 3977 3978 3979 3980 3981\n",
      " 3987 3988 3989 3990 3991 3992 3993 3994 3995 3996 3997 3998 3999 4008\n",
      " 4021 4281 4679 4697 4710 4744 4748 4749 4750 4751 4752 4753 4754 4755\n",
      " 4756 4757 4758 4759 4760 4761 4762 4763 4764 4770 4771 4772 4773 4774\n",
      " 4775 4776 4777 4778 4779 4780 4781 4782 4791 4804 5064 5462 5480 5493\n",
      " 5527 5531 5532 5533 5534 5535 5536 5537 5538 5539 5540 5541 5542 5543\n",
      " 5544 5545 5546 5547 5553 5554 5555 5556 5557 5558 5559 5560 5561 5562\n",
      " 5563 5564 5565 5574 5587 5847 6245 6263 6276 6310 6313 6314 6315 6316\n",
      " 6317 6318 6319 6320 6321 6322 6323 6324 6325 6326 6327 6328 6329 6330\n",
      " 6336 6337 6338 6339 6340 6341 6342 6343 6344 6345 6346 6347 6348 6357\n",
      " 6370 6630 7028 7046] are constant.\n",
      "  warnings.warn(\"Features %s are constant.\" % constant_features_idx, UserWarning)\n",
      "C:\\Users\\james\\anaconda3\\lib\\site-packages\\sklearn\\feature_selection\\_univariate_selection.py:113: RuntimeWarning: invalid value encountered in divide\n",
      "  f = msb / msw\n",
      "C:\\Users\\james\\anaconda3\\lib\\site-packages\\sklearn\\feature_selection\\_univariate_selection.py:112: UserWarning: Features [  12   46   49   50   51   52   53   54   55   56   57   58   59   60\n",
      "   61   62   63   64   65   66   72   73   74   75   76   77   78   79\n",
      "   80   81   82   83   84   93  106  366  764  782  795  829  832  833\n",
      "  834  835  836  837  838  839  840  841  842  843  844  845  846  847\n",
      "  848  849  854  855  856  857  858  859  860  861  862  863  864  865\n",
      "  866  867  876  889 1149 1565 1578 1612 1614 1615 1616 1617 1618 1619\n",
      " 1620 1621 1622 1623 1624 1625 1626 1627 1628 1629 1630 1631 1632 1638\n",
      " 1639 1640 1641 1642 1643 1644 1645 1646 1647 1648 1649 1650 1659 1672\n",
      " 1932 2330 2348 2361 2395 2398 2399 2400 2401 2402 2403 2404 2405 2406\n",
      " 2407 2408 2409 2410 2411 2412 2413 2414 2415 2421 2422 2423 2424 2425\n",
      " 2426 2427 2428 2429 2430 2431 2432 2433 2442 2455 2715 3131 3144 3178\n",
      " 3182 3183 3184 3185 3186 3187 3188 3189 3190 3191 3192 3193 3194 3195\n",
      " 3196 3197 3198 3199 3205 3206 3207 3208 3209 3210 3211 3212 3213 3214\n",
      " 3215 3216 3225 3238 3498 3895 3896 3914 3927 3961 3964 3965 3966 3967\n",
      " 3968 3969 3970 3971 3972 3973 3974 3975 3976 3977 3978 3979 3980 3981\n",
      " 3987 3988 3989 3990 3991 3992 3993 3994 3995 3996 3997 3998 3999 4008\n",
      " 4021 4281 4679 4697 4710 4744 4748 4749 4750 4751 4752 4753 4754 4755\n",
      " 4756 4757 4758 4759 4760 4761 4762 4763 4764 4770 4771 4772 4773 4774\n",
      " 4775 4776 4777 4778 4779 4780 4781 4782 4791 4804 5064 5462 5480 5493\n",
      " 5527 5531 5532 5533 5534 5535 5536 5537 5538 5539 5540 5541 5542 5543\n",
      " 5544 5545 5546 5547 5553 5554 5555 5556 5557 5558 5559 5560 5561 5562\n",
      " 5563 5564 5565 5574 5587 5847 6245 6263 6276 6310 6313 6314 6315 6316\n",
      " 6317 6318 6319 6320 6321 6322 6323 6324 6325 6326 6327 6328 6329 6330\n",
      " 6336 6337 6338 6339 6340 6341 6342 6343 6344 6345 6346 6347 6348 6357\n",
      " 6370 6630 7028 7046] are constant.\n",
      "  warnings.warn(\"Features %s are constant.\" % constant_features_idx, UserWarning)\n",
      "C:\\Users\\james\\anaconda3\\lib\\site-packages\\sklearn\\feature_selection\\_univariate_selection.py:113: RuntimeWarning: invalid value encountered in divide\n",
      "  f = msb / msw\n"
     ]
    },
    {
     "name": "stdout",
     "output_type": "stream",
     "text": [
      "Index(['az__variance_larger_than_standard_deviation', 'az__has_duplicate',\n",
      "       'az__sum_values', 'az__abs_energy', 'az__mean_abs_change',\n",
      "       'az__mean_change', 'az__median', 'az__mean', 'az__standard_deviation',\n",
      "       'az__variance',\n",
      "       ...\n",
      "       'wx__ratio_beyond_r_sigma__r_2', 'wx__ratio_beyond_r_sigma__r_2.5',\n",
      "       'wx__ratio_beyond_r_sigma__r_3', 'wx__fourier_entropy__bins_2',\n",
      "       'wx__fourier_entropy__bins_3', 'wx__fourier_entropy__bins_5',\n",
      "       'wx__fourier_entropy__bins_10', 'wx__fourier_entropy__bins_100',\n",
      "       'wx__permutation_entropy__dimension_7__tau_1',\n",
      "       'wx__mean_n_absolute_max__number_of_maxima_7'],\n",
      "      dtype='object', length=2500)\n"
     ]
    }
   ],
   "source": [
    "X = df_train.values\n",
    "y = df_train_labels['label']\n",
    "\n",
    "\n",
    "# Split the data\n",
    "X_train, X_test, y_train, y_test = train_test_split(X, y, test_size=0.2, random_state=42)\n",
    "\n",
    "feature_names = df_train.columns\n",
    "n = 2500\n",
    "# Perform feature selection\n",
    "selector = SelectKBest(score_func=f_classif, k=n)\n",
    "selector.fit(X_train, y_train)\n",
    "X_train_selected = selector.fit_transform(X_train, y_train)\n",
    "X_test_selected = selector.transform(X_test)\n",
    "\n",
    "# create a new DataFrame with the selected features\n",
    "selected_features = feature_names[selector.get_support()]\n",
    "\n",
    "# print the selected features\n",
    "print(selected_features)\n",
    "\n",
    "# Scale the data\n",
    "scaler = StandardScaler()\n",
    "X_train_scaled = scaler.fit_transform(X_train_selected)\n",
    "X_test_scaled = scaler.transform(X_test_selected)\n",
    "\n",
    "# Reshape the data\n",
    "X_train = X_train_scaled.reshape((X_train.shape[0], 1, n, 1))\n",
    "X_test = X_test_scaled.reshape((X_test.shape[0], 1, n, 1))\n",
    "\n",
    "\n",
    "\n",
    "\n",
    "import pickle\n",
    "\n",
    "with open('selector.pkl', 'wb') as f:\n",
    "    pickle.dump(selector, f)"
   ]
  },
  {
   "cell_type": "code",
   "execution_count": 63,
   "id": "fb78e90e",
   "metadata": {
    "scrolled": false
   },
   "outputs": [
    {
     "name": "stdout",
     "output_type": "stream",
     "text": [
      "Epoch 1/30\n",
      "41/41 [==============================] - 40s 951ms/step - loss: 1.6372 - accuracy: 0.5378 - val_loss: 0.9659 - val_accuracy: 0.6708\n",
      "Epoch 2/30\n",
      "41/41 [==============================] - 39s 956ms/step - loss: 0.6284 - accuracy: 0.7631 - val_loss: 0.6723 - val_accuracy: 0.7662\n",
      "Epoch 3/30\n",
      "41/41 [==============================] - 39s 958ms/step - loss: 0.3894 - accuracy: 0.8526 - val_loss: 0.7584 - val_accuracy: 0.7631\n",
      "Epoch 4/30\n",
      "41/41 [==============================] - 39s 956ms/step - loss: 0.2092 - accuracy: 0.9275 - val_loss: 0.6348 - val_accuracy: 0.8000\n",
      "Epoch 5/30\n",
      "41/41 [==============================] - 39s 953ms/step - loss: 0.0987 - accuracy: 0.9745 - val_loss: 0.8295 - val_accuracy: 0.7969\n",
      "Epoch 6/30\n",
      "41/41 [==============================] - 39s 953ms/step - loss: 0.0604 - accuracy: 0.9907 - val_loss: 1.0960 - val_accuracy: 0.8123\n",
      "Epoch 7/30\n",
      "41/41 [==============================] - 39s 953ms/step - loss: 0.0225 - accuracy: 0.9969 - val_loss: 0.8876 - val_accuracy: 0.8123\n",
      "Epoch 8/30\n",
      "41/41 [==============================] - 39s 956ms/step - loss: 0.0131 - accuracy: 0.9969 - val_loss: 1.0640 - val_accuracy: 0.8000\n",
      "Epoch 9/30\n",
      "41/41 [==============================] - 39s 953ms/step - loss: 0.0274 - accuracy: 0.9923 - val_loss: 1.2510 - val_accuracy: 0.7662\n",
      "Epoch 10/30\n",
      "41/41 [==============================] - 39s 961ms/step - loss: 0.0312 - accuracy: 0.9969 - val_loss: 1.2530 - val_accuracy: 0.8000\n",
      "Epoch 11/30\n",
      "41/41 [==============================] - 39s 944ms/step - loss: 0.0124 - accuracy: 0.9969 - val_loss: 1.1759 - val_accuracy: 0.8123\n",
      "Epoch 12/30\n",
      "41/41 [==============================] - 39s 959ms/step - loss: 0.0014 - accuracy: 1.0000 - val_loss: 1.2347 - val_accuracy: 0.8123\n",
      "Epoch 13/30\n",
      "41/41 [==============================] - 39s 957ms/step - loss: 8.0171e-04 - accuracy: 1.0000 - val_loss: 1.2539 - val_accuracy: 0.8062\n",
      "Epoch 14/30\n",
      "41/41 [==============================] - 39s 946ms/step - loss: 6.1751e-04 - accuracy: 1.0000 - val_loss: 1.2630 - val_accuracy: 0.8092\n",
      "Epoch 15/30\n",
      "41/41 [==============================] - 39s 953ms/step - loss: 4.8919e-04 - accuracy: 1.0000 - val_loss: 1.2774 - val_accuracy: 0.8031\n",
      "Epoch 16/30\n",
      "41/41 [==============================] - 39s 955ms/step - loss: 4.0104e-04 - accuracy: 1.0000 - val_loss: 1.2947 - val_accuracy: 0.8062\n",
      "Epoch 17/30\n",
      "41/41 [==============================] - 39s 949ms/step - loss: 3.3712e-04 - accuracy: 1.0000 - val_loss: 1.3093 - val_accuracy: 0.8062\n",
      "Epoch 18/30\n",
      "41/41 [==============================] - 39s 953ms/step - loss: 2.8502e-04 - accuracy: 1.0000 - val_loss: 1.3187 - val_accuracy: 0.8092\n",
      "Epoch 19/30\n",
      "41/41 [==============================] - 39s 952ms/step - loss: 2.3933e-04 - accuracy: 1.0000 - val_loss: 1.3347 - val_accuracy: 0.8092\n",
      "Epoch 20/30\n",
      "41/41 [==============================] - 39s 948ms/step - loss: 2.0264e-04 - accuracy: 1.0000 - val_loss: 1.3532 - val_accuracy: 0.8092\n",
      "Epoch 21/30\n",
      "41/41 [==============================] - 39s 957ms/step - loss: 1.0990e-04 - accuracy: 1.0000 - val_loss: 1.6021 - val_accuracy: 0.8277\n",
      "Epoch 22/30\n",
      "41/41 [==============================] - 39s 952ms/step - loss: 3.6350e-05 - accuracy: 1.0000 - val_loss: 1.7696 - val_accuracy: 0.8246\n",
      "Epoch 23/30\n",
      "41/41 [==============================] - 39s 950ms/step - loss: 1.7761e-05 - accuracy: 1.0000 - val_loss: 1.8657 - val_accuracy: 0.8215\n",
      "Epoch 24/30\n",
      "41/41 [==============================] - 39s 954ms/step - loss: 1.0738e-05 - accuracy: 1.0000 - val_loss: 1.9352 - val_accuracy: 0.8215\n",
      "Epoch 25/30\n",
      "41/41 [==============================] - 39s 953ms/step - loss: 7.8983e-06 - accuracy: 1.0000 - val_loss: 1.9807 - val_accuracy: 0.8246\n",
      "Epoch 26/30\n",
      "41/41 [==============================] - 39s 951ms/step - loss: 6.2244e-06 - accuracy: 1.0000 - val_loss: 2.0192 - val_accuracy: 0.8246\n",
      "Epoch 27/30\n",
      "41/41 [==============================] - 39s 950ms/step - loss: 4.5113e-06 - accuracy: 1.0000 - val_loss: 2.0530 - val_accuracy: 0.8185\n",
      "Epoch 28/30\n",
      "41/41 [==============================] - 39s 951ms/step - loss: 3.6220e-06 - accuracy: 1.0000 - val_loss: 2.0793 - val_accuracy: 0.8246\n",
      "Epoch 29/30\n",
      "41/41 [==============================] - 39s 947ms/step - loss: 3.2255e-06 - accuracy: 1.0000 - val_loss: 2.0999 - val_accuracy: 0.8246\n",
      "Epoch 30/30\n",
      "41/41 [==============================] - 39s 949ms/step - loss: 2.8829e-06 - accuracy: 1.0000 - val_loss: 2.1203 - val_accuracy: 0.8215\n",
      "11/11 [==============================] - 1s 85ms/step - loss: 2.1203 - accuracy: 0.8215\n",
      "Test accuracy: 0.8215384483337402\n",
      "Test loss: 2.120321273803711\n"
     ]
    }
   ],
   "source": [
    "# Define the CNN model\n",
    "model = Sequential()\n",
    "model.add(Conv2D(32, (1,1), activation='relu', input_shape=(1, n, 1)))\n",
    "model.add(MaxPooling2D((1,1)))\n",
    "model.add(Conv2D(64, (1,1), activation='relu'))\n",
    "model.add(MaxPooling2D((1,1)))\n",
    "model.add(Conv2D(128, (1,1), activation='relu'))\n",
    "model.add(MaxPooling2D((1,1)))\n",
    "model.add(Flatten())\n",
    "model.add(Dense(128, activation='relu'))\n",
    "model.add(Dense(5, activation='softmax'))\n",
    "\n",
    "\n",
    "# Compile the model\n",
    "model.compile(optimizer='adam',\n",
    "              loss='sparse_categorical_crossentropy',\n",
    "              metrics=['accuracy'])\n",
    "\n",
    "# Train the model\n",
    "model.fit(X_train, y_train, epochs=30, batch_size=32, validation_data=(X_test, y_test))\n",
    "\n",
    "# Evaluate the model\n",
    "test_loss, test_acc = model.evaluate(X_test, y_test)\n",
    "print('Test accuracy:', test_acc)\n",
    "print('Test loss:', test_loss)\n"
   ]
  },
  {
   "cell_type": "code",
   "execution_count": 64,
   "id": "bd12f2c5",
   "metadata": {},
   "outputs": [],
   "source": [
    "model.save('CNN_motion.h5')"
   ]
  },
  {
   "cell_type": "code",
   "execution_count": 73,
   "id": "6d3febec",
   "metadata": {},
   "outputs": [
    {
     "name": "stdout",
     "output_type": "stream",
     "text": [
      "11/11 [==============================] - 1s 80ms/step - loss: 2.2606 - accuracy: 0.8338\n",
      "Test accuracy: 0.8338461518287659\n",
      "Test loss: 2.260561943054199\n"
     ]
    }
   ],
   "source": [
    "# Evaluate the model\n",
    "test_loss, test_acc = model.evaluate(X_test, y_test, batch_size =32)\n",
    "print('Test accuracy:', test_acc)\n",
    "print('Test loss:', test_loss)"
   ]
  },
  {
   "cell_type": "code",
   "execution_count": 187,
   "id": "055f9665",
   "metadata": {},
   "outputs": [
    {
     "name": "stdout",
     "output_type": "stream",
     "text": [
      "11/11 [==============================] - 1s 80ms/step\n",
      "y_true (325,)\n",
      "----------------------------\n",
      "y_pred (325,)\n"
     ]
    }
   ],
   "source": [
    "from sklearn.metrics import accuracy_score\n",
    "\n",
    "y_pred = model.predict(X_test)\n",
    "y_pred = np.argmax(y_pred, axis=1)\n",
    "\n",
    "print(\"y_true\" , y_true.shape)\n",
    "print(\"----------------------------\")\n",
    "print('y_pred', y_pred.shape)"
   ]
  },
  {
   "cell_type": "code",
   "execution_count": 199,
   "id": "aa06b956",
   "metadata": {},
   "outputs": [
    {
     "name": "stdout",
     "output_type": "stream",
     "text": [
      "Accuracy: 0.8215384615384616\n",
      "11/11 [==============================] - 1s 80ms/step\n",
      "11/11 [==============================] - 1s 84ms/step\n",
      "11/11 [==============================] - 1s 88ms/step\n",
      "11/11 [==============================] - 1s 84ms/step\n",
      "11/11 [==============================] - 1s 82ms/step\n",
      "11/11 [==============================] - 1s 83ms/step\n",
      "11/11 [==============================] - 1s 83ms/step\n",
      "11/11 [==============================] - 1s 85ms/step\n",
      "11/11 [==============================] - 1s 85ms/step\n",
      "11/11 [==============================] - 1s 86ms/step\n",
      "11/11 [==============================] - 1s 81ms/step\n",
      "11/11 [==============================] - 1s 82ms/step\n",
      "11/11 [==============================] - 1s 81ms/step\n",
      "11/11 [==============================] - 1s 82ms/step\n",
      "11/11 [==============================] - 1s 81ms/step\n",
      "11/11 [==============================] - 1s 82ms/step\n",
      "11/11 [==============================] - 1s 83ms/step\n",
      "11/11 [==============================] - 1s 83ms/step\n",
      "11/11 [==============================] - 1s 81ms/step\n",
      "11/11 [==============================] - 1s 83ms/step\n",
      "Standard deviation of accuracy: 1.1102230246251565e-16\n"
     ]
    }
   ],
   "source": [
    "from sklearn.metrics import accuracy_score\n",
    "from keras.wrappers.scikit_learn import KerasClassifier\n",
    "\n",
    "accuracy = accuracy_score(y_test, y_pred)\n",
    "print(\"Accuracy:\", accuracy)\n",
    "accuracy_toCSV = accuracy\n",
    "\n",
    "\n",
    "# Initialize an array to store the accuracy values\n",
    "accuracies = np.zeros(20)\n",
    "\n",
    "# Repeat the prediction and evaluation process for the specified number of times\n",
    "for i in range(20):\n",
    "    # Use the predict() method to obtain the predicted class labels for the test data\n",
    "    y_pred = model.predict(X_test)\n",
    "    # Convert the predicted probabilities to class labels\n",
    "    y_pred = np.argmax(y_pred, axis=1)\n",
    "    # Calculate the accuracy of the model\n",
    "    accuracy = accuracy_score(y_test, y_pred)\n",
    "    # Store the accuracy value in the array\n",
    "    accuracies[i] = accuracy\n",
    "\n",
    "# Calculate the standard deviation of the obtained accuracy values\n",
    "std_accuracy = np.std(accuracies)\n",
    "\n",
    "\n",
    "\n",
    "print('Standard deviation of accuracy:', std_accuracy)\n",
    "\n",
    "\n"
   ]
  },
  {
   "cell_type": "code",
   "execution_count": 196,
   "id": "18fe12d3",
   "metadata": {},
   "outputs": [],
   "source": [
    "import csv\n",
    "\n",
    "file_name = '25_predicted_performance.csv'\n",
    "mode = 'w'\n",
    "\n",
    "# Open the file in the specified mode using the csv.writer() function\n",
    "with open(file_name, mode, newline='') as file:\n",
    "    writer = csv.writer(file)\n",
    "\n",
    "    # Write the headers for each column\n",
    "    writer.writerow(['predicted_accuracy', 'predicted_accuracy_std'])\n",
    "\n",
    "    # Write values to each column using the writerows() method\n",
    "    rows = [[accuracy_toCSV, std_accuracy]]\n",
    "    writer.writerows(rows)\n"
   ]
  },
  {
   "cell_type": "code",
   "execution_count": 202,
   "id": "994408e0",
   "metadata": {},
   "outputs": [
    {
     "name": "stdout",
     "output_type": "stream",
     "text": [
      "11/11 [==============================] - 1s 94ms/step\n",
      "[[56  1 12  2  1]\n",
      " [ 4 49  3  1  3]\n",
      " [ 4  3 44  9  1]\n",
      " [ 5  4  5 56  0]\n",
      " [ 0  0  0  0 62]]\n"
     ]
    }
   ],
   "source": [
    "from sklearn.metrics import confusion_matrix\n",
    "\n",
    "y_pred = model.predict(X_test)\n",
    "y_pred_classes = np.argmax(y_pred, axis=1)\n",
    "cm = confusion_matrix(y_test, y_pred_classes)\n",
    "print(cm)"
   ]
  },
  {
   "cell_type": "code",
   "execution_count": 80,
   "id": "ee2ad1ba",
   "metadata": {},
   "outputs": [
    {
     "data": {
      "image/png": "[encoded data removed]",
      "text/plain": [
       "<Figure size 640x480 with 2 Axes>"
      ]
     },
     "metadata": {},
     "output_type": "display_data"
    }
   ],
   "source": [
    "import itertools\n",
    "\n",
    "def plot_confusion_matrix(cm, classes, normalize=False, title='Confusion matrix', cmap=plt.cm.Blues):\n",
    "    \"\"\"\n",
    "    This function prints and plots the confusion matrix.\n",
    "    Normalization can be applied by setting `normalize=True`.\n",
    "    \"\"\"\n",
    "    if normalize:\n",
    "        cm = cm.astype('float') / cm.sum(axis=1)[:, np.newaxis]\n",
    "\n",
    "    plt.imshow(cm, interpolation='nearest', cmap=cmap)\n",
    "    plt.title(title)\n",
    "    plt.colorbar()\n",
    "    tick_marks = np.arange(len(classes))\n",
    "    plt.xticks(tick_marks, classes, rotation=45)\n",
    "    plt.yticks(tick_marks, classes)\n",
    "\n",
    "    fmt = '.2f' if normalize else 'd'\n",
    "    thresh = cm.max() / 2.\n",
    "    for i, j in itertools.product(range(cm.shape[0]), range(cm.shape[1])):\n",
    "        plt.text(j, i, format(cm[i, j], fmt),\n",
    "                 horizontalalignment=\"center\",\n",
    "                 color=\"white\" if cm[i, j] > thresh else \"black\")\n",
    "\n",
    "    plt.ylabel('True label')\n",
    "    plt.xlabel('Predicted label')\n",
    "    plt.tight_layout()\n",
    "    \n",
    "# Example usage with a 5x5 matrix\n",
    "\n",
    "classes = ['Walking', 'Fast Walking', 'Ascending', 'Descending', 'Jumping Jacks']\n",
    "\n",
    "plot_confusion_matrix(cm, classes, normalize=False, title='Confusion matrix')\n",
    "plt.show()"
   ]
  },
  {
   "cell_type": "code",
   "execution_count": 79,
   "id": "6aad5151",
   "metadata": {},
   "outputs": [
    {
     "name": "stdout",
     "output_type": "stream",
     "text": [
      "11/11 [==============================] - 1s 79ms/step\n"
     ]
    },
    {
     "data": {
      "image/png": "[encoded data removed]",
      "text/plain": [
       "<Figure size 640x480 with 1 Axes>"
      ]
     },
     "metadata": {},
     "output_type": "display_data"
    }
   ],
   "source": [
    "from sklearn.metrics import precision_recall_curve\n",
    "import matplotlib.pyplot as plt\n",
    "from sklearn.metrics import roc_auc_score\n",
    "\n",
    "\n",
    "\n",
    "\n",
    "# Predict probabilities for test data\n",
    "y_proba = model.predict(X_test)\n",
    "\n",
    "# Convert probabilities to binary predictions\n",
    "y_pred = np.argmax(y_proba, axis=1)\n",
    "\n",
    "# Calculate precision and recall for each class\n",
    "precision, recall, _ = precision_recall_curve(y_test, y_proba[:, 1], pos_label=1)\n",
    "\n",
    "# Plot precision-recall curve\n",
    "plt.plot(recall, precision)\n",
    "plt.xlabel('Recall')\n",
    "plt.ylabel('Precision')\n",
    "plt.show()\n"
   ]
  },
  {
   "cell_type": "code",
   "execution_count": 66,
   "id": "2c5cf21b",
   "metadata": {},
   "outputs": [
    {
     "data": {
      "image/png": "[encoded data removed]",
      "text/plain": [
       "<IPython.core.display.Image object>"
      ]
     },
     "execution_count": 66,
     "metadata": {},
     "output_type": "execute_result"
    }
   ],
   "source": [
    "from tensorflow.keras.utils import plot_model\n",
    "\n",
    "plot_model(model, to_file='cnn_model.png', show_shapes=True, show_layer_names=True)"
   ]
  },
  {
   "cell_type": "code",
   "execution_count": 45,
   "id": "7c0326d5",
   "metadata": {},
   "outputs": [],
   "source": [
    "df_test = read_csv(\"SYSC4415W23_A3_dataset/test/extracted_features.csv\")\n",
    "df_test_labels = read_csv(\"SYSC4415W23_A3_dataset/test/labels.csv\")\n",
    "\n",
    "# Replace infinite values with a valid value\n",
    "df_test = df_test.replace([np.inf, -np.inf], np.nan)\n",
    "df_test = df_test.fillna(df_test.max())\n",
    "\n",
    "df_test  = df_test.replace([np.inf, -np.inf], np.nan)\n",
    "df_test_labels  = df_test_labels.fillna(df_test.max())\n",
    "\n",
    "#remove NaN values replace with zero\n",
    "df_test = df_test.fillna(0)\n",
    "df_test_labels = df_test_labels.fillna(0)\n",
    "\n",
    "#sort numerically \n",
    "df_test = df_test.sort_values('sample_id', ascending=True)\n",
    "df_test_labels = df_test_labels.sort_values('sample_id', ascending=True)"
   ]
  },
  {
   "cell_type": "code",
   "execution_count": 68,
   "id": "5428e71d",
   "metadata": {},
   "outputs": [
    {
     "name": "stdout",
     "output_type": "stream",
     "text": [
      "     sample_id\n",
      "146          0\n",
      "260          5\n",
      "30          13\n",
      "163         14\n",
      "84          23\n"
     ]
    }
   ],
   "source": [
    "print(df_test_labels.head())"
   ]
  },
  {
   "cell_type": "code",
   "execution_count": 113,
   "id": "85421ec5",
   "metadata": {},
   "outputs": [],
   "source": []
  },
  {
   "cell_type": "code",
   "execution_count": 111,
   "id": "26d11290",
   "metadata": {
    "scrolled": false
   },
   "outputs": [
    {
     "name": "stderr",
     "output_type": "stream",
     "text": [
      "C:\\Users\\james\\anaconda3\\lib\\site-packages\\sklearn\\base.py:413: UserWarning: X has feature names, but SelectKBest was fitted without feature names\n",
      "  warnings.warn(\n"
     ]
    },
    {
     "name": "stdout",
     "output_type": "stream",
     "text": [
      "9/9 [==============================] - 1s 86ms/step\n",
      "(287,)\n",
      "[1 2 2 4 1 0 0 4 0 3 3 3 3 0 0 3 4 2 3 2 4 4 2 0 4 4 1 3 2 2 1 1 3 3 1 0 2\n",
      " 2 0 0 4 1 2 3 1 4 4 1 2 4 2 2 0 4 2 2 4 2 4 2 0 3 0 2 2 2 4 0 3 0 0 1 1 4\n",
      " 2 2 1 1 4 4 0 3 0 4 2 1 4 4 1 2 1 0 2 1 1 1 0 0 4 3 2 1 3 4 1 3 1 2 3 3 3\n",
      " 1 2 2 4 3 0 0 1 3 3 2 0 1 0 4 3 0 3 2 2 3 2 1 3 0 4 1 3 1 2 4 4 1 0 3 0 3\n",
      " 4 2 2 4 4 0 3 3 1 1 0 1 2 3 3 4 2 1 4 4 4 2 2 0 3 4 0 0 2 4 0 1 1 2 3 0 1\n",
      " 1 4 0 0 3 2 1 0 2 4 4 0 2 4 2 2 1 4 1 0 3 2 4 1 2 1 4 0 2 1 3 1 1 1 2 3 1\n",
      " 4 3 1 0 0 1 1 3 3 0 0 4 2 2 4 0 2 1 4 3 1 2 2 4 3 2 4 4 1 3 4 2 0 3 4 1 1\n",
      " 2 4 0 4 0 3 4 3 0 2 0 4 0 0 1 2 2 2 0 3 3 3 3 3 0 1 0 2]\n"
     ]
    }
   ],
   "source": [
    "from tensorflow.keras.models import load_model\n",
    "# load saved feature selector object\n",
    "with open('selector.pkl', 'rb') as f:\n",
    "    selector = pickle.load(f)\n",
    "#load model\n",
    "model = load_model('CNN_motion.h5')\n",
    "# load new data\n",
    "new_data = df_test\n",
    "\n",
    "# transform new data to have same shape as input data used to train the model\n",
    "new_data_transformed = selector.transform(new_data)\n",
    "new_data_transformed = scaler.transform(new_data_transformed)\n",
    "\n",
    "# reshape new data to fit the input shape of the CNN model\n",
    "new_data_transformed = np.reshape(new_data_transformed, (new_data_transformed.shape[0], 1, n, 1))\n",
    "\n",
    "# make predictions on new data using trained CNN model\n",
    "y_pred = model.predict(new_data_transformed)\n",
    "y_pred_classes = np.argmax(y_pred, axis=1)\n",
    "\n",
    "# save predictions to a CSV file\n",
    "np.savetxt('predicted_classes.csv', y_pred_classes, delimiter=',')\n",
    "\n",
    "print(y_pred_classes.shape)\n",
    "print(y_pred_classes)\n",
    "\n",
    "\n",
    "\n",
    "\n",
    "\n",
    "\n",
    "\n",
    "\n",
    "\n"
   ]
  },
  {
   "cell_type": "code",
   "execution_count": 116,
   "id": "7e534c7d",
   "metadata": {},
   "outputs": [
    {
     "name": "stdout",
     "output_type": "stream",
     "text": [
      "     sample_id  label\n",
      "146          0      0\n",
      "260          5      4\n",
      "30          13      1\n",
      "163         14      4\n",
      "84          23      2\n",
      "..         ...    ...\n",
      "140       1895      2\n",
      "95        1897      1\n",
      "87        1898      4\n",
      "171       1903      0\n",
      "169       1905      2\n",
      "\n",
      "[287 rows x 2 columns]\n"
     ]
    }
   ],
   "source": [
    "df = pd.DataFrame(df_test_labels)\n",
    "\n",
    "df_predictions = pd.concat([df, pd.DataFrame({'label': y_pred_classes})], axis=1)\n",
    "\n",
    "print(df_predictions)\n",
    "\n",
    "\n",
    "df_predictions.to_csv('25_predictions.csv', index=False)"
   ]
  },
  {
   "cell_type": "code",
   "execution_count": 118,
   "id": "5e1ef532",
   "metadata": {},
   "outputs": [
    {
     "data": {
      "image/png": "[encoded data removed]",
      "text/plain": [
       "<Figure size 640x480 with 1 Axes>"
      ]
     },
     "metadata": {},
     "output_type": "display_data"
    }
   ],
   "source": [
    "# Get the unique elements and their counts\n",
    "unique_elements, counts = np.unique(y_pred_classes, return_counts=True)\n",
    "\n",
    "# Plot the counts as a bar plot\n",
    "plt.bar(unique_elements, counts)\n",
    "plt.xlabel('Motion Type')\n",
    "plt.ylabel('Count')\n",
    "plt.title('Occurrences of Motion Types in Predicitions')\n",
    "plt.show()"
   ]
  }
 ],
 "metadata": {
  "kernelspec": {
   "display_name": "Python 3 (ipykernel)",
   "language": "python",
   "name": "python3"
  },
  "language_info": {
   "codemirror_mode": {
    "name": "ipython",
    "version": 3
   },
   "file_extension": ".py",
   "mimetype": "text/x-python",
   "name": "python",
   "nbconvert_exporter": "python",
   "pygments_lexer": "ipython3",
   "version": "3.10.9"
  }
 },
 "nbformat": 4,
 "nbformat_minor": 5
}
