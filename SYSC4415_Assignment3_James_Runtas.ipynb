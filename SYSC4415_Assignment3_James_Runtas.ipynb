{
 "cells": [
  {
   "cell_type": "code",
   "execution_count": 9,
   "id": "373698d3",
   "metadata": {},
   "outputs": [],
   "source": [
    "!jt -t chesterish"
   ]
  },
  {
   "cell_type": "code",
   "execution_count": 10,
   "id": "59d2b5ce",
   "metadata": {},
   "outputs": [],
   "source": [
    "import numpy as np\n",
    "import pandas as pd\n",
    "from pandas import read_csv\n",
    "\n"
   ]
  },
  {
   "cell_type": "code",
   "execution_count": 16,
   "id": "07d8ec28",
   "metadata": {
    "scrolled": true
   },
   "outputs": [],
   "source": [
    "df_train = read_csv(\"SYSC4415W23_A3_dataset/train/extracted_features.csv\")\n",
    "df_train_labels = read_csv(\"SYSC4415W23_A3_dataset/train/labels.csv\")\n",
    "\n",
    "\n",
    "\n",
    "\n",
    "# Replace infinite values with a valid value\n",
    "df_train = df_train.replace([np.inf, -np.inf], np.nan)\n",
    "df_train = df_train.fillna(df_train_featureExtractionUnsorted.max())\n",
    "\n",
    "df_train  = df_train.replace([np.inf, -np.inf], np.nan)\n",
    "df_train_labels  = df_train_labels.fillna(df_train_labelsUnsorted.max())\n",
    "\n",
    "#remove NaN values replace with zero\n",
    "df_train = df_train.fillna(0)\n",
    "df_train_labels = df_train_labels.fillna(0)\n",
    "\n",
    "#sort numerically \n",
    "df_train = df_train.sort_values('sample_id', ascending=True)\n",
    "df_train_labels = df_train_labels.sort_values('sample_id', ascending=True)\n",
    "\n",
    "\n"
   ]
  },
  {
   "cell_type": "code",
   "execution_count": 17,
   "id": "578d097c",
   "metadata": {},
   "outputs": [
    {
     "name": "stdout",
     "output_type": "stream",
     "text": [
      "      sample_id  az__variance_larger_than_standard_deviation  \\\n",
      "1018          1                                          1.0   \n",
      "1533          2                                          1.0   \n",
      "1346          3                                          1.0   \n",
      "426           4                                          1.0   \n",
      "60            6                                          1.0   \n",
      "\n",
      "      az__has_duplicate_max  az__has_duplicate_min  az__has_duplicate  \\\n",
      "1018                    0.0                    0.0                1.0   \n",
      "1533                    1.0                    1.0                1.0   \n",
      "1346                    0.0                    0.0                1.0   \n",
      "426                     0.0                    0.0                1.0   \n",
      "60                      0.0                    0.0                1.0   \n",
      "\n",
      "      az__sum_values  az__abs_energy  az__mean_abs_change  az__mean_change  \\\n",
      "1018      -11.405649     2958.427875             0.285573        -0.000523   \n",
      "1533        4.430022      816.786905             0.127496        -0.004708   \n",
      "1346      136.485847    19606.818781             1.177862        -0.006137   \n",
      "426       175.151247     5355.340251             0.460815         0.000824   \n",
      "60       8271.947225   258299.799743             1.649718         0.004929   \n",
      "\n",
      "      az__mean_second_derivative_central  ...  wx__fourier_entropy__bins_5  \\\n",
      "1018                            0.000112  ...                     0.327050   \n",
      "1533                           -0.000069  ...                     0.136002   \n",
      "1346                            0.001186  ...                     0.200814   \n",
      "426                            -0.000494  ...                     0.181214   \n",
      "60                             -0.000488  ...                     0.090729   \n",
      "\n",
      "      wx__fourier_entropy__bins_10  wx__fourier_entropy__bins_100  \\\n",
      "1018                      0.656882                       1.217748   \n",
      "1533                      0.215617                       0.529885   \n",
      "1346                      0.325140                       1.116011   \n",
      "426                       0.290926                       0.919296   \n",
      "60                        0.254093                       0.662409   \n",
      "\n",
      "      wx__permutation_entropy__dimension_3__tau_1  \\\n",
      "1018                                     1.189244   \n",
      "1533                                     0.731220   \n",
      "1346                                     1.322326   \n",
      "426                                      1.170402   \n",
      "60                                       1.187417   \n",
      "\n",
      "      wx__permutation_entropy__dimension_4__tau_1  \\\n",
      "1018                                     1.746101   \n",
      "1533                                     1.012292   \n",
      "1346                                     2.036857   \n",
      "426                                      1.696299   \n",
      "60                                       1.731053   \n",
      "\n",
      "      wx__permutation_entropy__dimension_5__tau_1  \\\n",
      "1018                                     2.344862   \n",
      "1533                                     1.286613   \n",
      "1346                                     2.785054   \n",
      "426                                      2.263814   \n",
      "60                                       2.329627   \n",
      "\n",
      "      wx__permutation_entropy__dimension_6__tau_1  \\\n",
      "1018                                     2.950303   \n",
      "1533                                     1.553275   \n",
      "1346                                     3.524340   \n",
      "426                                      2.859709   \n",
      "60                                       2.946007   \n",
      "\n",
      "      wx__permutation_entropy__dimension_7__tau_1  \\\n",
      "1018                                     3.541137   \n",
      "1533                                     1.834964   \n",
      "1346                                     4.223358   \n",
      "426                                      3.450062   \n",
      "60                                       3.538269   \n",
      "\n",
      "      wx__query_similarity_count__query_None__threshold_0.0  \\\n",
      "1018                                                0.0       \n",
      "1533                                                0.0       \n",
      "1346                                                0.0       \n",
      "426                                                 0.0       \n",
      "60                                                  0.0       \n",
      "\n",
      "      wx__mean_n_absolute_max__number_of_maxima_7  \n",
      "1018                                     4.362429  \n",
      "1533                                    11.139676  \n",
      "1346                                     5.262511  \n",
      "426                                      6.425968  \n",
      "60                                      40.151338  \n",
      "\n",
      "[5 rows x 7048 columns]\n"
     ]
    }
   ],
   "source": [
    "print(df_train.head())"
   ]
  },
  {
   "cell_type": "code",
   "execution_count": 18,
   "id": "66e17fc8",
   "metadata": {},
   "outputs": [
    {
     "name": "stdout",
     "output_type": "stream",
     "text": [
      "      sample_id  label\n",
      "1576          1      3\n",
      "1213          2      3\n",
      "567           3      4\n",
      "1283          4      1\n",
      "1015          6      4\n"
     ]
    }
   ],
   "source": [
    "print(df_train_labels.head())"
   ]
  },
  {
   "cell_type": "code",
   "execution_count": 20,
   "id": "1ff707e2",
   "metadata": {},
   "outputs": [
    {
     "name": "stdout",
     "output_type": "stream",
     "text": [
      "1621\n",
      "1621\n"
     ]
    }
   ],
   "source": [
    "print(len(df_train))\n",
    "\n",
    "print(len(df_train_labels))"
   ]
  },
  {
   "cell_type": "code",
   "execution_count": 21,
   "id": "ec0a06ca",
   "metadata": {},
   "outputs": [],
   "source": [
    "import pandas as pd\n",
    "import numpy as np\n",
    "from sklearn.model_selection import train_test_split\n",
    "from sklearn.preprocessing import StandardScaler\n",
    "from sklearn.feature_selection import SelectKBest, f_classif\n",
    "from tensorflow.keras.models import Sequential\n",
    "from tensorflow.keras.layers import Dense, Conv2D, MaxPooling2D, Flatten\n"
   ]
  },
  {
   "cell_type": "code",
   "execution_count": null,
   "id": "fb78e90e",
   "metadata": {
    "scrolled": false
   },
   "outputs": [
    {
     "name": "stderr",
     "output_type": "stream",
     "text": [
      "C:\\Users\\james\\anaconda3\\lib\\site-packages\\sklearn\\feature_selection\\_univariate_selection.py:112: UserWarning: Features [  12   46   49   50   51   52   53   54   55   56   57   58   59   60\n",
      "   61   62   63   64   65   66   72   73   74   75   76   77   78   79\n",
      "   80   81   82   83   84  106  366  764  782  795  829  832  833  834\n",
      "  835  836  837  838  839  840  841  842  843  844  845  846  847  848\n",
      "  849  854  855  856  857  858  859  860  861  862  863  864  865  866\n",
      "  867  889 1149 1565 1578 1612 1614 1615 1616 1617 1618 1619 1620 1621\n",
      " 1622 1623 1624 1625 1626 1627 1628 1629 1630 1631 1632 1638 1639 1640\n",
      " 1641 1642 1643 1644 1645 1646 1647 1648 1649 1650 1672 1932 2330 2348\n",
      " 2361 2395 2398 2399 2400 2401 2402 2403 2404 2405 2406 2407 2408 2409\n",
      " 2410 2411 2412 2413 2414 2415 2421 2422 2423 2424 2425 2426 2427 2428\n",
      " 2429 2430 2431 2432 2433 2455 2715 3131 3144 3178 3182 3183 3184 3185\n",
      " 3186 3187 3188 3189 3190 3191 3192 3193 3194 3195 3196 3197 3198 3199\n",
      " 3205 3206 3207 3208 3209 3210 3211 3212 3213 3214 3215 3216 3238 3498\n",
      " 3895 3896 3914 3927 3961 3964 3965 3966 3967 3968 3969 3970 3971 3972\n",
      " 3973 3974 3975 3976 3977 3978 3979 3980 3981 3987 3988 3989 3990 3991\n",
      " 3992 3993 3994 3995 3996 3997 3998 3999 4021 4281 4679 4697 4710 4744\n",
      " 4748 4749 4750 4751 4752 4753 4754 4755 4756 4757 4758 4759 4760 4761\n",
      " 4762 4763 4764 4770 4771 4772 4773 4774 4775 4776 4777 4778 4779 4780\n",
      " 4781 4782 4804 5064 5462 5480 5493 5527 5531 5532 5533 5534 5535 5536\n",
      " 5537 5538 5539 5540 5541 5542 5543 5544 5545 5546 5547 5553 5554 5555\n",
      " 5556 5557 5558 5559 5560 5561 5562 5563 5564 5565 5587 5847 6245 6263\n",
      " 6276 6310 6313 6314 6315 6316 6317 6318 6319 6320 6321 6322 6323 6324\n",
      " 6325 6326 6327 6328 6329 6330 6336 6337 6338 6339 6340 6341 6342 6343\n",
      " 6344 6345 6346 6347 6348 6370 6630 7028 7046] are constant.\n",
      "  warnings.warn(\"Features %s are constant.\" % constant_features_idx, UserWarning)\n",
      "C:\\Users\\james\\anaconda3\\lib\\site-packages\\sklearn\\feature_selection\\_univariate_selection.py:113: RuntimeWarning: invalid value encountered in divide\n",
      "  f = msb / msw\n"
     ]
    },
    {
     "name": "stdout",
     "output_type": "stream",
     "text": [
      "Epoch 1/20\n",
      "41/41 [==============================] - 33s 782ms/step - loss: 1.4575 - accuracy: 0.5424 - val_loss: 1.0884 - val_accuracy: 0.5969\n",
      "Epoch 2/20\n",
      "41/41 [==============================] - 32s 785ms/step - loss: 0.6989 - accuracy: 0.7346 - val_loss: 0.7966 - val_accuracy: 0.7323\n",
      "Epoch 3/20\n",
      "41/41 [==============================] - 32s 785ms/step - loss: 0.4602 - accuracy: 0.8295 - val_loss: 0.7957 - val_accuracy: 0.7815\n",
      "Epoch 4/20\n",
      "41/41 [==============================] - 32s 786ms/step - loss: 0.2592 - accuracy: 0.9082 - val_loss: 0.9410 - val_accuracy: 0.7600\n",
      "Epoch 5/20\n",
      "41/41 [==============================] - 32s 786ms/step - loss: 0.2431 - accuracy: 0.9437 - val_loss: 1.2082 - val_accuracy: 0.8000\n",
      "Epoch 6/20\n",
      "41/41 [==============================] - 32s 784ms/step - loss: 0.1070 - accuracy: 0.9784 - val_loss: 0.9908 - val_accuracy: 0.7662\n",
      "Epoch 7/20\n",
      "41/41 [==============================] - 32s 785ms/step - loss: 0.0381 - accuracy: 0.9931 - val_loss: 1.0641 - val_accuracy: 0.7754\n",
      "Epoch 8/20\n",
      "41/41 [==============================] - 32s 791ms/step - loss: 0.0190 - accuracy: 0.9969 - val_loss: 1.0773 - val_accuracy: 0.7938\n",
      "Epoch 9/20\n",
      "36/41 [=========================>....] - ETA: 3s - loss: 0.0085 - accuracy: 0.9991"
     ]
    }
   ],
   "source": [
    "X = df_train\n",
    "y = df_train_labels['label']\n",
    "\n",
    "# Split the data\n",
    "X_train, X_test, y_train, y_test = train_test_split(X, y, test_size=0.2, random_state=42)\n",
    "\n",
    "scaler = StandardScaler()\n",
    "X_train = scaler.fit_transform(X_train)\n",
    "X_test = scaler.transform(X_test)\n",
    "\n",
    "# Select the top n features\n",
    "n = 2000\n",
    "selector = SelectKBest(f_classif, k=n)\n",
    "X_train = selector.fit_transform(X_train, y_train)\n",
    "X_test = selector.transform(X_test)\n",
    "\n",
    "# Reshape the data\n",
    "X_train = X_train.reshape((X_train.shape[0], 1, n, 1))\n",
    "X_test = X_test.reshape((X_test.shape[0], 1, n, 1))\n",
    "\n",
    "# Define the CNN model\n",
    "model = Sequential()\n",
    "model.add(Conv2D(32, (1,1), activation='relu', input_shape=(1, n, 1)))\n",
    "model.add(MaxPooling2D((1,1)))\n",
    "model.add(Conv2D(64, (1,1), activation='relu'))\n",
    "model.add(MaxPooling2D((1,1)))\n",
    "model.add(Conv2D(128, (1,1), activation='relu'))\n",
    "model.add(MaxPooling2D((1,1)))\n",
    "model.add(Flatten())\n",
    "model.add(Dense(128, activation='relu'))\n",
    "model.add(Dense(5, activation='softmax'))\n",
    "\n",
    "\n",
    "# Compile the model\n",
    "model.compile(optimizer='adam',\n",
    "              loss='sparse_categorical_crossentropy',\n",
    "              metrics=['accuracy'])\n",
    "\n",
    "# Train the model\n",
    "model.fit(X_train, y_train, epochs=20, batch_size=32, validation_data=(X_test, y_test))\n",
    "\n",
    "# Evaluate the model\n",
    "test_loss, test_acc = model.evaluate(X_test, y_test)\n",
    "print('Test accuracy:', test_acc)\n"
   ]
  },
  {
   "cell_type": "code",
   "execution_count": 50,
   "id": "23011686",
   "metadata": {},
   "outputs": [
    {
     "name": "stdout",
     "output_type": "stream",
     "text": [
      "11/11 [==============================] - 1s 63ms/step\n",
      "41/41 [==============================] - 3s 70ms/step\n"
     ]
    }
   ],
   "source": [
    "# Get predictions on the testing set\n",
    "y_pred_test = model.predict(X_test)\n",
    "y_pred_train = model.predict(X_train)\n",
    "\n",
    "# Convert the predicted probabilities to class labels (integers from 0 to 4)\n",
    "y_pred_test = np.argmax(y_pred_test, axis=1)\n",
    "y_pred_train = np.argmax(y_pred_train, axis=1)"
   ]
  },
  {
   "cell_type": "code",
   "execution_count": 51,
   "id": "f0aab321",
   "metadata": {},
   "outputs": [
    {
     "ename": "ValueError",
     "evalue": "operands could not be broadcast together with shapes (325,) (1296,) ",
     "output_type": "error",
     "traceback": [
      "\u001b[1;31m---------------------------------------------------------------------------\u001b[0m",
      "\u001b[1;31mValueError\u001b[0m                                Traceback (most recent call last)",
      "Cell \u001b[1;32mIn[51], line 10\u001b[0m\n\u001b[0;32m      6\u001b[0m \u001b[38;5;66;03m# Assuming y_true and y_pred are your true and predicted labels, respectively\u001b[39;00m\n\u001b[0;32m      7\u001b[0m \u001b[38;5;66;03m# y_true and y_pred should both be arrays of integers from 0 to 4 (inclusive)\u001b[39;00m\n\u001b[0;32m      8\u001b[0m \u001b[38;5;66;03m# where 0 represents \"Walking\", 1 represents \"Running\", etc.\u001b[39;00m\n\u001b[0;32m      9\u001b[0m y_true \u001b[38;5;241m=\u001b[39m df_train_labels\u001b[38;5;241m.\u001b[39mlabel\u001b[38;5;241m.\u001b[39mvalues\n\u001b[1;32m---> 10\u001b[0m cm \u001b[38;5;241m=\u001b[39m confusion_matrix(y_true, \u001b[43my_pred_test\u001b[49m\u001b[38;5;241;43m+\u001b[39;49m\u001b[43my_pred_train\u001b[49m)\n\u001b[0;32m     12\u001b[0m \u001b[38;5;66;03m# Define the class labels\u001b[39;00m\n\u001b[0;32m     13\u001b[0m class_labels \u001b[38;5;241m=\u001b[39m [\u001b[38;5;124m\"\u001b[39m\u001b[38;5;124mWalking\u001b[39m\u001b[38;5;124m\"\u001b[39m, \u001b[38;5;124m\"\u001b[39m\u001b[38;5;124mRunning\u001b[39m\u001b[38;5;124m\"\u001b[39m, \u001b[38;5;124m\"\u001b[39m\u001b[38;5;124mGoing Upstairs\u001b[39m\u001b[38;5;124m\"\u001b[39m, \u001b[38;5;124m\"\u001b[39m\u001b[38;5;124mGoing Downstairs\u001b[39m\u001b[38;5;124m\"\u001b[39m, \u001b[38;5;124m\"\u001b[39m\u001b[38;5;124mJumping Jacks\u001b[39m\u001b[38;5;124m\"\u001b[39m]\n",
      "\u001b[1;31mValueError\u001b[0m: operands could not be broadcast together with shapes (325,) (1296,) "
     ]
    }
   ],
   "source": [
    "import numpy as np\n",
    "import seaborn as sns\n",
    "import matplotlib.pyplot as plt\n",
    "from sklearn.metrics import confusion_matrix\n",
    "\n",
    "# Assuming y_true and y_pred are your true and predicted labels, respectively\n",
    "# y_true and y_pred should both be arrays of integers from 0 to 4 (inclusive)\n",
    "# where 0 represents \"Walking\", 1 represents \"Running\", etc.\n",
    "y_true = df_train_labels.label.values\n",
    "cm = confusion_matrix(y_true, y_pred)\n",
    "\n",
    "# Define the class labels\n",
    "class_labels = [\"Walking\", \"Running\", \"Going Upstairs\", \"Going Downstairs\", \"Jumping Jacks\"]\n",
    "\n",
    "# Normalize the confusion matrix\n",
    "cm_norm = cm.astype(\"float\") / cm.sum(axis=1)[:, np.newaxis]\n",
    "\n",
    "# Plot the confusion matrix as a heatmap\n",
    "sns.set(font_scale=1.2)\n",
    "sns.heatmap(cm_norm, annot=cm, fmt=\"d\", cmap=\"Blues\", xticklabels=class_labels, yticklabels=class_labels)\n",
    "plt.xlabel(\"Predicted Label\")\n",
    "plt.ylabel(\"True Label\")\n",
    "plt.title(\"Confusion Matrix\")\n",
    "plt.show()"
   ]
  }
 ],
 "metadata": {
  "kernelspec": {
   "display_name": "Python 3 (ipykernel)",
   "language": "python",
   "name": "python3"
  },
  "language_info": {
   "codemirror_mode": {
    "name": "ipython",
    "version": 3
   },
   "file_extension": ".py",
   "mimetype": "text/x-python",
   "name": "python",
   "nbconvert_exporter": "python",
   "pygments_lexer": "ipython3",
   "version": "3.10.9"
  }
 },
 "nbformat": 4,
 "nbformat_minor": 5
}
